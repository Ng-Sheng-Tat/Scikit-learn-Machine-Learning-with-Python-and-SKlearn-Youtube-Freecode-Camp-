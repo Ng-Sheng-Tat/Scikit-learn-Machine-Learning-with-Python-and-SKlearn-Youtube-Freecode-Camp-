{
 "cells": [
  {
   "cell_type": "code",
   "execution_count": 1,
   "id": "eb7bdb23",
   "metadata": {},
   "outputs": [],
   "source": [
    "from sklearn import datasets\n",
    "from sklearn import linear_model\n",
    "from sklearn.model_selection import train_test_split\n",
    "import matplotlib.pyplot as plt "
   ]
  },
  {
   "cell_type": "code",
   "execution_count": 2,
   "id": "3e514c2d",
   "metadata": {
    "collapsed": true
   },
   "outputs": [
    {
     "name": "stderr",
     "output_type": "stream",
     "text": [
      "D:\\Anaconda\\envs\\ML_ScLearn\\lib\\site-packages\\sklearn\\utils\\deprecation.py:87: FutureWarning: Function load_boston is deprecated; `load_boston` is deprecated in 1.0 and will be removed in 1.2.\n",
      "\n",
      "    The Boston housing prices dataset has an ethical problem. You can refer to\n",
      "    the documentation of this function for further details.\n",
      "\n",
      "    The scikit-learn maintainers therefore strongly discourage the use of this\n",
      "    dataset unless the purpose of the code is to study and educate about\n",
      "    ethical issues in data science and machine learning.\n",
      "\n",
      "    In this special case, you can fetch the dataset from the original\n",
      "    source::\n",
      "\n",
      "        import pandas as pd\n",
      "        import numpy as np\n",
      "\n",
      "        data_url = \"http://lib.stat.cmu.edu/datasets/boston\"\n",
      "        raw_df = pd.read_csv(data_url, sep=\"\\s+\", skiprows=22, header=None)\n",
      "        data = np.hstack([raw_df.values[::2, :], raw_df.values[1::2, :2]])\n",
      "        target = raw_df.values[1::2, 2]\n",
      "\n",
      "    Alternative datasets include the California housing dataset (i.e.\n",
      "    :func:`~sklearn.datasets.fetch_california_housing`) and the Ames housing\n",
      "    dataset. You can load the datasets as follows::\n",
      "\n",
      "        from sklearn.datasets import fetch_california_housing\n",
      "        housing = fetch_california_housing()\n",
      "\n",
      "    for the California housing dataset and::\n",
      "\n",
      "        from sklearn.datasets import fetch_openml\n",
      "        housing = fetch_openml(name=\"house_prices\", as_frame=True)\n",
      "\n",
      "    for the Ames housing dataset.\n",
      "  warnings.warn(msg, category=FutureWarning)\n"
     ]
    }
   ],
   "source": [
    "boston = datasets.load_boston()"
   ]
  },
  {
   "cell_type": "code",
   "execution_count": 3,
   "id": "367f93bb",
   "metadata": {},
   "outputs": [
    {
     "data": {
      "text/plain": [
       "(506, 13)"
      ]
     },
     "execution_count": 3,
     "metadata": {},
     "output_type": "execute_result"
    }
   ],
   "source": [
    "x = boston.data\n",
    "x.shape"
   ]
  },
  {
   "cell_type": "code",
   "execution_count": 4,
   "id": "aac022a6",
   "metadata": {},
   "outputs": [
    {
     "data": {
      "text/plain": [
       "(506,)"
      ]
     },
     "execution_count": 4,
     "metadata": {},
     "output_type": "execute_result"
    }
   ],
   "source": [
    "y = boston.target\n",
    "y.shape"
   ]
  },
  {
   "cell_type": "code",
   "execution_count": 5,
   "id": "917affee",
   "metadata": {},
   "outputs": [],
   "source": [
    "linear_regression = linear_model.LinearRegression()"
   ]
  },
  {
   "cell_type": "code",
   "execution_count": 8,
   "id": "0ebe4d83",
   "metadata": {
    "collapsed": true
   },
   "outputs": [
    {
     "data": {
      "text/plain": [
       "<matplotlib.collections.PathCollection at 0x2c296adcd00>"
      ]
     },
     "execution_count": 8,
     "metadata": {},
     "output_type": "execute_result"
    },
    {
     "data": {
      "image/png": "[encoded data removed]",
      "text/plain": [
       "<Figure size 432x288 with 1 Axes>"
      ]
     },
     "metadata": {
      "needs_background": "light"
     },
     "output_type": "display_data"
    }
   ],
   "source": [
    "plt.scatter(x.T[5], y)"
   ]
  },
  {
   "cell_type": "code",
   "execution_count": 9,
   "id": "71f44c73",
   "metadata": {},
   "outputs": [],
   "source": [
    "xtrain, xtest, ytrain, ytest = train_test_split(x, y, test_size = 0.2)"
   ]
  },
  {
   "cell_type": "code",
   "execution_count": 10,
   "id": "5db9335c",
   "metadata": {},
   "outputs": [],
   "source": [
    "model = linear_regression.fit(xtrain, ytrain)"
   ]
  },
  {
   "cell_type": "code",
   "execution_count": 11,
   "id": "afc0c827",
   "metadata": {
    "collapsed": true
   },
   "outputs": [
    {
     "data": {
      "text/plain": [
       "array([24.68749357, 17.15878705,  6.39351105, 34.17991175, 26.85835742,\n",
       "       19.67238148, 34.39980594, 34.69152594, 31.00172875, 27.08206357,\n",
       "       30.19581694, 24.12195342, 17.41680302, 18.2682838 , 17.42385834,\n",
       "       17.50108872, 18.91624807, 14.26724989, 26.11212763, 20.36218778,\n",
       "       12.81876193, 25.34224197, 24.0340868 , 19.58325335, 22.74904311,\n",
       "       20.64882546, 23.63377173, 16.73395423, 22.36237046,  3.33109364,\n",
       "       22.73499628, 17.38340457, 13.01850468, 25.99269258, 18.00303342,\n",
       "       27.919876  , 33.07881609, 29.04950781, 30.63621597, 24.66079818,\n",
       "       21.1482671 , 25.3615283 , 36.96535837, 41.65955059,  9.19353962,\n",
       "       19.34736641, 25.56196417, 15.78387648, 23.24489394,  7.70692781,\n",
       "       19.4221987 , 20.16156891,  8.02213363, 28.25397689, 17.1691765 ,\n",
       "       34.46808224, 11.04192842, 10.85154877, 20.69479409, 20.81730968,\n",
       "       26.2679831 , 24.21262122, 31.46085884, 28.88458014, 37.58478586,\n",
       "       23.29497629, 15.97830526, 17.13645582, 25.55474165, 34.5484742 ,\n",
       "       18.95494207, 27.34167528, 19.47655016, 14.09645133, 21.59860397,\n",
       "       20.29912429, 16.345594  , 21.94181483, 42.96654851, 27.29808726,\n",
       "       13.55122251, 16.86829496, 32.61821472, 30.29578416, 27.20652727,\n",
       "       27.44587746, 17.16686536, 12.77943464, 24.19040694, 29.31588933,\n",
       "       27.76214479, 21.99605726, 31.07347289, 23.61045739, 17.7910294 ,\n",
       "        9.0217616 , 23.99716867, 14.03838832, 18.62784847, 35.0914924 ,\n",
       "       24.03976017, 21.21208482])"
      ]
     },
     "execution_count": 11,
     "metadata": {},
     "output_type": "execute_result"
    }
   ],
   "source": [
    "predictions = model.predict(xtest)\n",
    "predictions"
   ]
  },
  {
   "cell_type": "code",
   "execution_count": 12,
   "id": "f1e12461",
   "metadata": {},
   "outputs": [
    {
     "data": {
      "text/plain": [
       "0.7383803198795803"
      ]
     },
     "execution_count": 12,
     "metadata": {},
     "output_type": "execute_result"
    }
   ],
   "source": [
    "r2val = linear_regression.score(x, y)\n",
    "r2val"
   ]
  },
  {
   "cell_type": "code",
   "execution_count": 13,
   "id": "9e274a2c",
   "metadata": {},
   "outputs": [
    {
     "data": {
      "text/plain": [
       "array([-1.10176455e-01,  5.09907751e-02,  1.82882049e-02,  2.96615759e+00,\n",
       "       -2.15135149e+01,  3.17903868e+00,  1.39088929e-02, -1.61256923e+00,\n",
       "        3.36652473e-01, -1.27320783e-02, -9.74630345e-01,  8.36313185e-03,\n",
       "       -5.96042838e-01])"
      ]
     },
     "execution_count": 13,
     "metadata": {},
     "output_type": "execute_result"
    }
   ],
   "source": [
    "coeffval = linear_regression.coef_\n",
    "coeffval"
   ]
  },
  {
   "cell_type": "code",
   "execution_count": 14,
   "id": "5f497a55",
   "metadata": {},
   "outputs": [
    {
     "data": {
      "text/plain": [
       "43.57926230147281"
      ]
     },
     "execution_count": 14,
     "metadata": {},
     "output_type": "execute_result"
    }
   ],
   "source": [
    "interceptval = linear_regression.intercept_\n",
    "interceptval"
   ]
  },
  {
   "cell_type": "code",
   "execution_count": null,
   "id": "616d485f",
   "metadata": {},
   "outputs": [],
   "source": []
  }
 ],
 "metadata": {
  "kernelspec": {
   "display_name": "Python [conda env:ML_ScLearn] *",
   "language": "python",
   "name": "conda-env-ML_ScLearn-py"
  },
  "language_info": {
   "codemirror_mode": {
    "name": "ipython",
    "version": 3
   },
   "file_extension": ".py",
   "mimetype": "text/x-python",
   "name": "python",
   "nbconvert_exporter": "python",
   "pygments_lexer": "ipython3",
   "version": "3.8.13"
  }
 },
 "nbformat": 4,
 "nbformat_minor": 5
}
